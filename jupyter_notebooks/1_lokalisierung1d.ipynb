{
 "cells": [
  {
   "cell_type": "markdown",
   "metadata": {},
   "source": [
    "# Lerncamp 2021\n",
    "## Roboter-Lokalisierung\n",
    "### Westsächsische Hochschule Zwickau, Informatik"
   ]
  },
  {
   "cell_type": "markdown",
   "metadata": {},
   "source": [
    "\n",
    "----\n",
    "\n",
    "# Ziel: Python-Programm zur Bestimmung der Position (Lokalisierung) eines virtuellen Roboters\n",
    "\n",
    "----\n",
    "\n",
    "# 1. Schritt: Wie repräsentieren wir die Welt/Karte in Python?"
   ]
  },
  {
   "cell_type": "code",
   "execution_count": null,
   "metadata": {},
   "outputs": [],
   "source": [
    "karte = [ 'G', 'G', 'R', 'G', 'R' ]\n",
    "# G steht für grüne Zelle, R für rote"
   ]
  },
  {
   "cell_type": "markdown",
   "metadata": {},
   "source": [
    "----\n",
    "## Einschub: Zugriff auf Welt und deren Zellen"
   ]
  },
  {
   "cell_type": "code",
   "execution_count": null,
   "metadata": {},
   "outputs": [],
   "source": [
    "print(karte)"
   ]
  },
  {
   "cell_type": "code",
   "execution_count": null,
   "metadata": {},
   "outputs": [],
   "source": [
    "print(karte[1])\n",
    "print(karte[2])"
   ]
  },
  {
   "cell_type": "code",
   "execution_count": null,
   "metadata": {},
   "outputs": [],
   "source": [
    "print(karte[0])"
   ]
  },
  {
   "cell_type": "markdown",
   "metadata": {},
   "source": [
    "----"
   ]
  },
  {
   "cell_type": "markdown",
   "metadata": {},
   "source": [
    "# 2. Schritt : Neue Vermutung der Roboter-Position anhand der alten und der gemessenen Zellfarbe berechnen\n",
    "\n",
    "## 2.1. Vermutungen als Python-Liste von Wahrscheinlichkeiten\n",
    "\n",
    "* Initiale Positionsvermutungen sind gleichverteilt\n",
    "  * Roboter ist \"maximal verwirrt\", er weiß überhaupt nicht, wo er sich befindet"
   ]
  },
  {
   "cell_type": "code",
   "execution_count": null,
   "metadata": {},
   "outputs": [],
   "source": [
    "vermutungen = [ 0.2, 0.2, 0.2, 0.2, 0.2 ]"
   ]
  },
  {
   "cell_type": "markdown",
   "metadata": {},
   "source": [
    "### Aktuelle Vermutungen anzeigen"
   ]
  },
  {
   "cell_type": "code",
   "execution_count": null,
   "metadata": {},
   "outputs": [],
   "source": [
    "from helper import *\n",
    "\n",
    "print(\"Ausgangssituation\")\n",
    "ausgabe(karte, vermutungen)\n",
    "print()"
   ]
  },
  {
   "cell_type": "markdown",
   "metadata": {},
   "source": [
    "## 2.2. Neue Vermutung der Roboter-Position anhand der alten und der gemessenen Zellfarbe berechnen\n",
    "\n",
    "* **Vorgabe**: Die gemessene Zellenfarbe soll **Grün** sein"
   ]
  },
  {
   "cell_type": "code",
   "execution_count": null,
   "metadata": {},
   "outputs": [],
   "source": [
    "print(\" Messung: Zelle hat Farbe G\")\n",
    "gemessene_farbe = 'G'\n",
    "\n",
    "# 1. Neue Vermutungen anhand der alten und der gemessenen Zellfarbe berechnen\n",
    "\n",
    "neue_vermutungen = []\n",
    "\n",
    "for index, zellfarbe in enumerate(karte):\n",
    "    gleiche_farbe = (zellfarbe == gemessene_farbe)\n",
    "    if gleiche_farbe:\n",
    "        neue_vermutungen.append(vermutungen[index])\n",
    "    else:\n",
    "        neue_vermutungen.append(0.0)\n",
    "\n",
    "ausgabe(karte, neue_vermutungen)"
   ]
  },
  {
   "cell_type": "markdown",
   "metadata": {},
   "source": [
    "### 2.3. Es fehlt noch die Normalisierung der berechneten Positionswahrscheinlichkeiten"
   ]
  },
  {
   "cell_type": "code",
   "execution_count": null,
   "metadata": {},
   "outputs": [],
   "source": [
    "# 2. Normalisieren\n",
    "\n",
    "s = sum(neue_vermutungen)\n",
    "for i in range(len(neue_vermutungen)):\n",
    "\tneue_vermutungen[i] = neue_vermutungen[i] / s"
   ]
  },
  {
   "cell_type": "markdown",
   "metadata": {},
   "source": [
    "### 2.4. Neue Vermutungen ausgeben und nächsten Schritt vorbereiten"
   ]
  },
  {
   "cell_type": "code",
   "execution_count": null,
   "metadata": {},
   "outputs": [],
   "source": [
    "vermutungen = neue_vermutungen\n",
    "ausgabe(karte, vermutungen)"
   ]
  },
  {
   "cell_type": "markdown",
   "metadata": {},
   "source": [
    "----\n",
    "----\n",
    "\n",
    "# 3. Schritt: Roboter bewegt sich einen Schritt nach rechts\n",
    "\n",
    "* Hinweis: Die Roboterwelt ist zyklisch; bewegt sich der Roboter über ein Ende hinaus, kommt er am anderen wieder heraus"
   ]
  },
  {
   "cell_type": "code",
   "execution_count": null,
   "metadata": {},
   "outputs": [],
   "source": [
    "print()\n",
    "print(\"Bewegung: 1 Zelle nach rechts\")\n",
    "vermutungen = shift_list(vermutungen, 1)\n",
    "ausgabe(karte, vermutungen)"
   ]
  },
  {
   "cell_type": "markdown",
   "metadata": {},
   "source": [
    "## 4. Schritt: Farbe der Zelle messen\n",
    "\n",
    "\n",
    "* **Vorgabe**: Die gemessene Zellenfarbe soll **Rot** sein"
   ]
  },
  {
   "cell_type": "code",
   "execution_count": null,
   "metadata": {},
   "outputs": [],
   "source": [
    "print(\" Messung: Zelle hat Farbe R\")\n",
    "\n",
    "# TODO"
   ]
  },
  {
   "cell_type": "markdown",
   "metadata": {},
   "source": [
    "----\n",
    "----\n",
    "\n",
    "# 5. Schritt: Roboter bewegt sich einen Schritt nach rechts"
   ]
  },
  {
   "cell_type": "code",
   "execution_count": null,
   "metadata": {},
   "outputs": [],
   "source": [
    "print()\n",
    "print(\"Bewegung: 1 Zelle nach rechts\")\n",
    "\n",
    "# TODO"
   ]
  },
  {
   "cell_type": "markdown",
   "metadata": {},
   "source": [
    "----\n",
    "----\n",
    "\n",
    "## 6. Schritt: Farbe der Zelle messen\n",
    "\n",
    "* **Vorgabe**: Die gemessene Zellenfarbe soll **Grün** sein\n",
    "\n",
    "**Halt**! Bevor Sie den Quellcode von oben wieder hierhin kopieren, schauen wir uns ein Programmierwerkzeug an, welches das (mit vielen Nachteilen behaftete) Kopieren von Code überflüssig macht:\n",
    "\n",
    "### Wiederverwendung mit Hilfe von Prozeduren:\n",
    "\n",
    "* Wir definieren eine Prozedur `aktualisiere_positionsvermutung`\n",
    "* und übergeben ihr (mit Hilfe sogenannter _Eingabeparameter_)\n",
    "  * die Karte,\n",
    "  * die aktuellen Vermutungen und\n",
    "  * die gemessene Farbe der aktuellen Zelle.\n",
    "* Die Prozedur berechnet anhand dieser Daten die neuen Positionsvermutungen und liefert uns dieses zurück."
   ]
  },
  {
   "cell_type": "code",
   "execution_count": null,
   "metadata": {},
   "outputs": [],
   "source": [
    "def aktualisiere_positionsvermutung(karte, vermutungen,\n",
    "                                    gemessene_farbe):\n",
    "\t# 1. Neue Vermutungen anhand der alten und der gemessenen Zellfarbe berechnen\n",
    "\tneue_vermutungen = []\n",
    "\tfor zelle in enumerate(karte):\n",
    "\t\tgleiche_farbe = (zelle[1] == gemessene_farbe)\n",
    "\t\tif gleiche_farbe:\n",
    "\t\t\tneue_vermutungen.append(vermutungen[zelle[0]])\n",
    "\t\telse:\n",
    "\t\t\tneue_vermutungen.append(0.0)\n",
    "\n",
    "\t# 2. Normalisieren\n",
    "\ts = sum(neue_vermutungen)\n",
    "\tfor i in range(len(neue_vermutungen)):\n",
    "\t\tneue_vermutungen[i] = neue_vermutungen[i] / s\n",
    "\t\n",
    "\treturn neue_vermutungen"
   ]
  },
  {
   "cell_type": "markdown",
   "metadata": {},
   "source": [
    "**Jetzt verwenden wir die Prozedur `aktualisiere_positionsvermutung` immer, wenn wir unsere Position aktualisieren wollen:**"
   ]
  },
  {
   "cell_type": "code",
   "execution_count": null,
   "metadata": {},
   "outputs": [],
   "source": [
    "print(\" Messung: Zelle hat Farbe R\")\n",
    "vermutungen = aktualisiere_positionsvermutung(karte, vermutungen, gemessene_farbe='R')\n",
    "ausgabe(karte, vermutungen)"
   ]
  },
  {
   "cell_type": "markdown",
   "metadata": {},
   "source": [
    "### Zusammenfassung zu Prozeduren\n",
    "\n",
    "Prozeduren sind also eine Art _Programmbaustein_, den wir immer wieder verwenden können, ohne ihn neu erstellten (d.h., programmieren oder kopieren) zu müssen. Sie kapseln Funktionalität, die wiederverwendet werden kann.\n",
    "\n",
    "----\n",
    "----\n",
    "\n",
    "## 7. Schritt: Roboter bewegt sich einen Schritt nach rechts"
   ]
  },
  {
   "cell_type": "code",
   "execution_count": null,
   "metadata": {},
   "outputs": [],
   "source": [
    "# TODO: Prozedure 'bewege_eins_nach_rechts' definieren\n",
    "# def bewege_eins_nach_rechts(...)\n",
    "\n",
    "\n",
    "# verwenden der Prozedur:\n",
    "print()\n",
    "print(\"Bewegung: 1 Zelle nach rechts\")\n",
    "vermutungen = bewege_eins_nach_rechts(vermutungen)"
   ]
  },
  {
   "cell_type": "markdown",
   "metadata": {},
   "source": [
    "----\n",
    "\n",
    "### Hinweise zu Prozeduren\n",
    "\n",
    "* Mit Hilfe von Prozeduren haben wir nicht nur Wiederverwendung (ohne Kopieren) nützlicher Funktionalitäten erreicht, wir haben auch das Abstraktionsniveau und damit die Verständlichkeit unseres Programms erhöht, indem wir sprechende Namen verwenden: `aktualisiere_positionsvermutung` und `bewege_eins_nach_rechts` statt `shift_list`.\n",
    "* **Frage**: Was ist beim Kopieren von Funktionalität (Programmbausteinen) problematisch? Warum sollten wir Prozeduren verwenden?"
   ]
  },
  {
   "cell_type": "markdown",
   "metadata": {},
   "source": [
    "----\n",
    "----\n",
    "\n",
    "# Übungen\n",
    "\n",
    "## 1. Übung: Seltsame Welt\n",
    "\n",
    "* Verwenden Sie diese Welt: `[ 'G', 'G', 'G', 'G', 'G' ]`\n",
    "* Was passiert, wenn Sie den Roboter versuchen zu lokalisieren?\n",
    "\n",
    "----\n",
    "\n",
    "## 2. Übung: Größere Welt\n",
    "\n",
    "* Verwenden Sie diese Welt: `[ 'R', 'G', 'G', 'R', 'G', 'G' ]`\n",
    "* Wie müssen Sie die initialen Wahrscheinlichkeiten berechnen?\n",
    "  * Hinweis: Sie können nun nicht mehr 0,2 als initiale Wahrscheinlichkeit für jede Zelle verwenden. Warum?\n",
    "* Versuchen Sie, den Roboter zu lokalisieren.\n",
    "\n",
    "----\n",
    "\n",
    "## 3. Übung: Größere, seltsamere Welt\n",
    "\n",
    "* Verwenden Sie diese Welt: `[ 'G', 'R', 'G', 'R', 'G', 'R', 'G', 'R' ]`\n",
    "* Wie müssen Sie die initialen Wahrscheinlichkeiten berechnen?\n",
    "  * Hinweis: Sie können nun nicht mehr 0,2 als initiale Wahrscheinlichkeit für jede Zelle verwenden. Warum?\n",
    "* Versuchen Sie, den Roboter zu lokalisieren.\n",
    "\n",
    "\n",
    "---\n",
    "\n",
    "## Aufgabe\n",
    "\n",
    "Wie könnte man die Bestimmung der initialen Wahrscheinlichkeiten unabhängig von der Größe der Welt automatisieren?\n",
    "\n",
    "----\n",
    "----"
   ]
  },
  {
   "cell_type": "code",
   "execution_count": null,
   "metadata": {},
   "outputs": [],
   "source": []
  }
 ],
 "metadata": {
  "kernelspec": {
   "display_name": "Python 3",
   "language": "python",
   "name": "python3"
  },
  "language_info": {
   "codemirror_mode": {
    "name": "ipython",
    "version": 3
   },
   "file_extension": ".py",
   "mimetype": "text/x-python",
   "name": "python",
   "nbconvert_exporter": "python",
   "pygments_lexer": "ipython3",
   "version": "3.9.2"
  }
 },
 "nbformat": 4,
 "nbformat_minor": 4
}
